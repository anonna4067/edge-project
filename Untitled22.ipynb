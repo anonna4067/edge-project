{
  "nbformat": 4,
  "nbformat_minor": 0,
  "metadata": {
    "colab": {
      "provenance": [],
      "include_colab_link": true
    },
    "kernelspec": {
      "name": "python3",
      "display_name": "Python 3"
    },
    "language_info": {
      "name": "python"
    }
  },
  "cells": [
    {
      "cell_type": "markdown",
      "metadata": {
        "id": "view-in-github",
        "colab_type": "text"
      },
      "source": [
        "<a href=\"https://colab.research.google.com/github/anonna4067/edge-project/blob/main/Untitled22.ipynb\" target=\"_parent\"><img src=\"https://colab.research.google.com/assets/colab-badge.svg\" alt=\"Open In Colab\"/></a>"
      ]
    },
    {
      "cell_type": "code",
      "execution_count": null,
      "metadata": {
        "colab": {
          "base_uri": "https://localhost:8080/"
        },
        "id": "lCmYI6Q4OYJU",
        "outputId": "934ca34a-5a4f-41d6-d427-7309c6040504"
      },
      "outputs": [
        {
          "output_type": "stream",
          "name": "stdout",
          "text": [
            "hello world\n"
          ]
        }
      ],
      "source": [
        "print(\"hello world\")"
      ]
    },
    {
      "cell_type": "code",
      "source": [
        "#Data collection and Storage\n",
        "\n",
        "import pandas as pd\n",
        "\n",
        "Student_data={\n",
        "    \"Student Name\": [\"Anonna\",\"promee\",\"Arbee\",\"Anida\",\"Mitu\"],\n",
        "    \"Student ID\"  : [\"STU-10001\", \"STU-10002\", \"STU-10003\", \"STU-10004\", \"STU-10005\"],\n",
        "    \"Subject\"     : ['Math','Statistics' ,'Bangla','Science','English'],\n",
        "    \"Score\"       : [85, 78, 92, 40, 56],\n",
        "    \"Attendence Percentage\" : [80,90,85,45,70],\n",
        "    \"Assignment Completion\" :['Yes', 'Yes', 'No', 'No', 'Yes']\n",
        "}"
      ],
      "metadata": {
        "id": "bDVJEbbIOlR4"
      },
      "execution_count": 117,
      "outputs": []
    },
    {
      "cell_type": "code",
      "source": [
        "df = pd.DataFrame(Student_data)\n",
        "csv_path = \"Student_performance_data.csv\"\n",
        "df.to_csv(csv_path, index=False)"
      ],
      "metadata": {
        "id": "4NPBWhgmLcyT"
      },
      "execution_count": 118,
      "outputs": []
    },
    {
      "cell_type": "code",
      "source": [
        "import csv\n",
        "def input_Student_data():\n",
        "    student_name = input(\"Enter student name: \")\n",
        "    student_id = input(\"Enter student ID: \")\n",
        "    subject = input(\"Enter subject: \")\n",
        "    score = float(input(\"Enter score: \"))\n",
        "    attendence_percentage = float(input(\"Enter attendence percentage: \"))\n",
        "    assignment_completion = input(\"Enter assignment completion (Yes/No): \")\n",
        "\n",
        "    data=[student_name,student_id,subject,score,attendence_percentage,assignment_completion]\n",
        "\n",
        "\n",
        "    with open('Student_data.csv', 'a', newline='') as csvfile:\n",
        "        writer = csv.writer(csvfile)\n",
        "        writer.writerow(data)\n",
        "input_Student_data()"
      ],
      "metadata": {
        "id": "pprE7L8RHR_K",
        "outputId": "742ee869-838d-498e-c1e9-0872b5692779",
        "colab": {
          "base_uri": "https://localhost:8080/"
        }
      },
      "execution_count": 119,
      "outputs": [
        {
          "name": "stdout",
          "output_type": "stream",
          "text": [
            "Enter student name: Sadia\n",
            "Enter student ID: STU-10006\n",
            "Enter subject: ICT\n",
            "Enter score: 60\n",
            "Enter attendence percentage: 56\n",
            "Enter assignment completion (Yes/No): yes\n"
          ]
        }
      ]
    },
    {
      "cell_type": "code",
      "source": [],
      "metadata": {
        "id": "ZKhiOTUrfQma"
      },
      "execution_count": null,
      "outputs": []
    },
    {
      "cell_type": "code",
      "source": [
        "# Read CSV file\n",
        "df_read = pd.read_csv(csv_path)\n",
        "\n",
        "# Modify data: Increase scores by 5\n",
        "df_read['Score'] += 5\n",
        "\n",
        "# Write modified data to a new CSV file\n",
        "updated_csv_path = \"student_performance_data_updated.csv\"\n",
        "df_read.to_csv(updated_csv_path, index=False)\n"
      ],
      "metadata": {
        "id": "s0xZARQHK-ch"
      },
      "execution_count": 120,
      "outputs": []
    },
    {
      "cell_type": "code",
      "source": [
        "# Convert the dictionary to a pandas DataFrame\n",
        "df = pd.DataFrame(Student_data)\n",
        "\n",
        "# 1. Data Type Conversion: Convert Score to integer if stored as a string (not necessary in your case, as 'Score' is already an integer).\n",
        "df['Score'] = pd.to_numeric(df['Score'], errors='coerce').astype(int)\n",
        "\n",
        "# 2. Analyze average, minimum, and maximum scores per student\n",
        "score_analysis = df.groupby(\"Student Name\")['Score'].agg(['mean', 'min', 'max'])\n",
        "print(\"Score Analysis (average, minimum, and maximum per student):\")\n",
        "print(score_analysis)\n",
        "\n",
        "# 3. Identify students with attendance < 75% or missing assignments\n",
        "low_attendance_or_missing = df[(df['Attendence Percentage'] < 75) | (df['Assignment Completion'] == \"No\")]\n",
        "print(\"\\nStudents with low attendance (< 75%) or missing assignments:\")\n",
        "print(low_attendance_or_missing)\n",
        "\n",
        "# 4. Boolean Indexing: Filter students failing a specific subject (Score < 50)\n",
        "failing_students = df[df['Score'] < 50]\n",
        "print(\"\\nFailing students (Score < 50):\")\n",
        "print(failing_students)\n",
        "\n",
        "# Final DataFrame after transformations\n",
        "print(\"\\nFinal DataFrame with Score column as integers:\")\n",
        "print(df)"
      ],
      "metadata": {
        "colab": {
          "base_uri": "https://localhost:8080/"
        },
        "id": "lQCj5nnRfTTS",
        "outputId": "99a07707-cf3e-4861-b61e-7b839280004a"
      },
      "execution_count": 121,
      "outputs": [
        {
          "output_type": "stream",
          "name": "stdout",
          "text": [
            "Score Analysis (average, minimum, and maximum per student):\n",
            "              mean  min  max\n",
            "Student Name                \n",
            "Anida         40.0   40   40\n",
            "Anonna        85.0   85   85\n",
            "Arbee         92.0   92   92\n",
            "Mitu          56.0   56   56\n",
            "promee        78.0   78   78\n",
            "\n",
            "Students with low attendance (< 75%) or missing assignments:\n",
            "  Student Name Student ID  Subject  Score  Attendence Percentage  \\\n",
            "2        Arbee  STU-10003   Bangla     92                     85   \n",
            "3        Anida  STU-10004  Science     40                     45   \n",
            "4         Mitu  STU-10005  English     56                     70   \n",
            "\n",
            "  Assignment Completion  \n",
            "2                    No  \n",
            "3                    No  \n",
            "4                   Yes  \n",
            "\n",
            "Failing students (Score < 50):\n",
            "  Student Name Student ID  Subject  Score  Attendence Percentage  \\\n",
            "3        Anida  STU-10004  Science     40                     45   \n",
            "\n",
            "  Assignment Completion  \n",
            "3                    No  \n",
            "\n",
            "Final DataFrame with Score column as integers:\n",
            "  Student Name Student ID     Subject  Score  Attendence Percentage  \\\n",
            "0       Anonna  STU-10001        Math     85                     80   \n",
            "1       promee  STU-10002  Statistics     78                     90   \n",
            "2        Arbee  STU-10003      Bangla     92                     85   \n",
            "3        Anida  STU-10004     Science     40                     45   \n",
            "4         Mitu  STU-10005     English     56                     70   \n",
            "\n",
            "  Assignment Completion  \n",
            "0                   Yes  \n",
            "1                   Yes  \n",
            "2                    No  \n",
            "3                    No  \n",
            "4                   Yes  \n"
          ]
        }
      ]
    },
    {
      "cell_type": "code",
      "source": [
        "\n",
        "df = pd.DataFrame(Student_data)\n",
        "\n",
        "#  Bar Chart: Average Scores by Subject\n",
        "avg_scores_by_subject = df.groupby('Subject')['Score'].mean()\n",
        "avg_scores_by_subject.plot(kind='bar', title=\"Average Scores by Subject\", color='skyblue')\n",
        "plt.xlabel(\"Subject\")\n",
        "plt.ylabel(\"Average Score\")\n",
        "plt.show()"
      ],
      "metadata": {
        "id": "Ph7B0lr4XRFb",
        "outputId": "6e50054f-81b7-41bd-b654-528357a991b2",
        "colab": {
          "base_uri": "https://localhost:8080/",
          "height": 521
        }
      },
      "execution_count": 122,
      "outputs": [
        {
          "output_type": "display_data",
          "data": {
            "text/plain": [
              "<Figure size 640x480 with 1 Axes>"
            ],
            "image/png": "[encoded data removed]"
          },
          "metadata": {}
        }
      ]
    },
    {
      "cell_type": "code",
      "source": [
        "import pandas as pd\n",
        "import matplotlib.pyplot as plt\n",
        "\n",
        "# Student data dictionary\n",
        "Student_data = {\n",
        "    \"Student Name\": [\"Anonna\", \"promee\", \"Arbee\", \"Anida\", \"Mitu\"],\n",
        "    \"Student ID\"  : [\"STU-10001\", \"STU-10002\", \"STU-10003\", \"STU-10004\", \"STU-10005\"],\n",
        "    \"Subject\"     : ['Math', 'Statistics', 'Bangla', 'Science', 'English'],\n",
        "    \"Score\"       : [85, 78, 92, 40, 56],\n",
        "    \"Attendance Percentage\" : [80, 90, 85, 45, 70]\n",
        "}\n",
        "\n",
        "# Convert the dictionary to a pandas DataFrame\n",
        "df = pd.DataFrame(Student_data)\n",
        "\n",
        "# Categorize attendance into bins: <50%, 50-75%, >75%\n",
        "attendance_categories = pd.cut(df['Attendance Percentage'], bins=[0, 50, 75, 100], labels=['<50%', '50-75%', '>75%'])\n",
        "\n",
        "# Get the count of students in each category\n",
        "attendance_category_counts = attendance_categories.value_counts()\n",
        "\n",
        "# Plot the pie chart\n",
        "attendance_category_counts.plot.pie(autopct='%1.1f%%', startangle=90, title=\"Attendance Percentage Categories\", colors=['red', 'orange', 'green'])\n",
        "plt.ylabel(\"\")\n",
        "plt.show()\n"
      ],
      "metadata": {
        "colab": {
          "base_uri": "https://localhost:8080/",
          "height": 428
        },
        "id": "18v1rBvmhnes",
        "outputId": "1662fccb-deb5-4efb-81f4-53c5681f836e"
      },
      "execution_count": 123,
      "outputs": [
        {
          "output_type": "display_data",
          "data": {
            "text/plain": [
              "<Figure size 640x480 with 1 Axes>"
            ],
            "image/png": "[encoded data removed]"
          },
          "metadata": {}
        }
      ]
    },
    {
      "cell_type": "code",
      "source": [
        "#  Line Graph: Performance Trends for a Selected Student (e.g., Anonna)\n",
        "selected_student = df[df['Student Name'] == \"Anonna\"]\n",
        "if not selected_student.empty:\n",
        "    selected_student.plot(x='Subject', y='Score', kind='line', title=\"Performance Trends for Anonna\", marker='o', color='blue')\n",
        "    plt.xlabel(\"Subject\")\n",
        "    plt.ylabel(\"Score\")\n",
        "    plt.show()\n",
        "else:\n",
        "    print(\"No data found for the selected student.\")"
      ],
      "metadata": {
        "id": "dsJeb-P8Xnmx",
        "outputId": "4693e882-6e17-48f4-a2fe-3662eaa49dd4",
        "colab": {
          "base_uri": "https://localhost:8080/",
          "height": 472
        }
      },
      "execution_count": 124,
      "outputs": [
        {
          "output_type": "display_data",
          "data": {
            "text/plain": [
              "<Figure size 640x480 with 1 Axes>"
            ],
            "image/png": "[encoded data removed]"
          },
          "metadata": {}
        }
      ]
    },
    {
      "cell_type": "code",
      "source": [
        "import pandas as pd\n",
        "\n",
        "\n",
        "Student_data = {\n",
        "    \"Student Name\": [\"Anonna\", \"promee\", \"Arbee\", \"Anida\", \"Mitu\"],\n",
        "    \"Student ID\": [\"STU-10001\", \"STU-10002\", \"STU-10003\", \"STU-10004\", \"STU-10005\"],\n",
        "    \"Subject\": ['Math', 'Statistics', 'Bangla', 'Science', 'English'],\n",
        "    \"Score\": [85, 78, 92, 40, 56],\n",
        "    \"Attendence Percentage\": [80, 90, 85, 45, 70],\n",
        "    \"Assignment Completion\": ['Yes', 'Yes', 'No', 'No', 'Yes']\n",
        "}\n",
        "\n",
        "df = pd.DataFrame(Student_data)\n",
        "\n",
        "# Function to calculate aggregate score\n",
        "def calculate_aggregate_score(df):\n",
        "    aggregate_scores = df.groupby('Student Name')['Score'].sum().reset_index()\n",
        "    aggregate_scores.rename(columns={'Score': 'Aggregate Score'}, inplace=True)\n",
        "    return aggregate_scores\n",
        "\n",
        "# Function to determine grade based on score\n",
        "def determine_grade(score):\n",
        "    if score >= 90:\n",
        "        return 'A'\n",
        "    elif score >= 80:\n",
        "        return 'B'\n",
        "    elif score >= 70:\n",
        "        return 'C'\n",
        "    else:\n",
        "        return 'Fail'\n",
        "\n",
        "# Applying grade function to the dataframe\n",
        "df['Grade'] = df['Score'].apply(determine_grade)\n",
        "\n",
        "# Function to generate student performance report\n",
        "def generate_student_performance_report(df):\n",
        "    report = df[[\"Student Name\", \"Score\", \"Attendence Percentage\", \"Assignment Completion\", \"Grade\"]].copy()\n",
        "    return report\n",
        "\n",
        "# Calculating aggregate scores\n",
        "aggregate_scores = calculate_aggregate_score(df)\n",
        "\n",
        "# Generating student performance report\n",
        "performance_report = generate_student_performance_report(df)\n",
        "\n",
        "# Display results\n",
        "print(\"Aggregate Scores:\")\n",
        "print(aggregate_scores)\n",
        "print(\"\\nStudent Performance Report:\")\n",
        "print(performance_report)\n"
      ],
      "metadata": {
        "colab": {
          "base_uri": "https://localhost:8080/"
        },
        "id": "N9H_AKX9njkK",
        "outputId": "3c301ba0-7e83-41e5-bc00-5c97008aae40"
      },
      "execution_count": 125,
      "outputs": [
        {
          "output_type": "stream",
          "name": "stdout",
          "text": [
            "Aggregate Scores:\n",
            "  Student Name  Aggregate Score\n",
            "0        Anida               40\n",
            "1       Anonna               85\n",
            "2        Arbee               92\n",
            "3         Mitu               56\n",
            "4       promee               78\n",
            "\n",
            "Student Performance Report:\n",
            "  Student Name  Score  Attendence Percentage Assignment Completion Grade\n",
            "0       Anonna     85                     80                   Yes     B\n",
            "1       promee     78                     90                   Yes     C\n",
            "2        Arbee     92                     85                    No     A\n",
            "3        Anida     40                     45                    No  Fail\n",
            "4         Mitu     56                     70                   Yes  Fail\n"
          ]
        }
      ]
    },
    {
      "cell_type": "code",
      "source": [
        "import re\n",
        "import time\n",
        "from functools import wraps\n",
        "\n",
        "# Decorator to log function execution\n",
        "def log_execution(func):\n",
        "    @wraps(func)\n",
        "    def wrapper(*args, **kwargs):\n",
        "        print(f\"Executing {func.__name__}...\")\n",
        "        start_time = time.time()\n",
        "        result = func(*args, **kwargs)\n",
        "        end_time = time.time()\n",
        "        print(f\"{func.__name__} executed in {end_time - start_time:.2f} seconds.\")\n",
        "        return result\n",
        "    return wrapper\n",
        "\n",
        "# Function to validate student IDs\n",
        "def validate_student_id(student_id):\n",
        "    pattern = r\"^STU-\\d{5}$\"\n",
        "    if not re.match(pattern, student_id):\n",
        "        raise ValueError(f\"Invalid Student ID: {student_id}. Must follow the pattern STU-12345.\")\n",
        "    return True\n",
        "\n",
        "# Function to demonstrate exception handling\n",
        "@log_execution\n",
        "def process_student_data(file_path):\n",
        "    try:\n",
        "        # Simulating file read (Replace with actual file reading code)\n",
        "        print(f\"Attempting to read file: {file_path}\")\n",
        "        with open(file_path, 'r') as f:\n",
        "            data = f.read()\n",
        "        print(\"File read successfully.\")\n",
        "\n",
        "        # Simulating division by zero error\n",
        "        print(\"Simulating a calculation...\")\n",
        "        result = 100 / 0  # This will raise ZeroDivisionError\n",
        "\n",
        "    except FileNotFoundError:\n",
        "        print(f\"Error: File not found: {file_path}. Please check the file path.\")\n",
        "    except ZeroDivisionError:\n",
        "        print(\"Error: Division by zero occurred.\")\n",
        "    except ValueError as ve:\n",
        "        print(f\"Validation Error: {ve}\")\n",
        "    except Exception as e:\n",
        "        print(f\"An unexpected error occurred: {e}\")\n",
        "    else:\n",
        "        print(\"Processing completed without errors.\")\n",
        "    finally:\n",
        "        print(\"End of process_student_data function.\")\n",
        "\n",
        "# Example Usage of the Validation Function\n",
        "@log_execution\n",
        "def validate_all_student_ids(student_ids):\n",
        "    try:\n",
        "        for student_id in student_ids:\n",
        "            validate_student_id(student_id)\n",
        "            print(f\"{student_id} is valid.\")\n",
        "    except ValueError as e:\n",
        "        print(e)\n",
        "\n",
        "# Sample Student IDs\n",
        "student_ids = [\"STU-10001\", \"STU-10002\", \"INVALID-123\", \"STU-12345\"]\n",
        "\n",
        "# Validate Student IDs\n",
        "validate_all_student_ids(student_ids)\n",
        "\n",
        "\n"
      ],
      "metadata": {
        "colab": {
          "base_uri": "https://localhost:8080/"
        },
        "id": "d9llvfaNpjBz",
        "outputId": "3d6bac04-d7da-4a80-8432-f7efcfdaf71c"
      },
      "execution_count": 126,
      "outputs": [
        {
          "output_type": "stream",
          "name": "stdout",
          "text": [
            "Executing validate_all_student_ids...\n",
            "STU-10001 is valid.\n",
            "STU-10002 is valid.\n",
            "Invalid Student ID: INVALID-123. Must follow the pattern STU-12345.\n",
            "validate_all_student_ids executed in 0.00 seconds.\n"
          ]
        }
      ]
    },
    {
      "cell_type": "code",
      "source": [
        "\n",
        "\n",
        "# Function to add new student data\n",
        "def input_student_data():\n",
        "    try:\n",
        "        name = input(\"Enter student name: \").strip()\n",
        "        student_id = input(\"Enter student ID (format: STU-12345): \").strip()\n",
        "        subject = input(\"Enter subject: \").strip()\n",
        "        score = int(input(\"Enter score: \").strip())\n",
        "        attendance = int(input(\"Enter attendance percentage: \").strip())\n",
        "        assignment = input(\"Assignment completed? (Yes/No): \").strip().capitalize()\n",
        "\n",
        "        # Validate the student ID\n",
        "        if not re.match(r\"^STU-\\d{5}$\", student_id):\n",
        "            raise ValueError(\"Invalid Student ID format. Must follow the pattern STU-12345.\")\n",
        "\n",
        "        # Add the new data to the DataFrame\n",
        "        global df\n",
        "        new_row = {\n",
        "            \"Student Name\": name,\n",
        "            \"Student ID\": student_id,\n",
        "            \"Subject\": subject,\n",
        "            \"Score\": score,\n",
        "            \"Attendance Percentage\": attendance,\n",
        "            \"Assignment Completion\": assignment\n",
        "        }\n",
        "        df = pd.concat([df, pd.DataFrame([new_row])], ignore_index=True)\n",
        "        print(f\"\\nStudent data added successfully:\\n{new_row}\")\n",
        "    except ValueError as ve:\n",
        "        print(f\"Error: {ve}\")\n",
        "    except Exception as e:\n",
        "        print(f\"Unexpected error: {e}\")\n",
        "\n",
        "# Function to search student data\n",
        "def search_student_data():\n",
        "    search_id = input(\"Enter the Student ID to search: \").strip()\n",
        "    student = df[df[\"Student ID\"] == search_id]\n",
        "    if not student.empty:\n",
        "        print(f\"\\nStudent Found:\\n{student}\")\n",
        "    else:\n",
        "        print(\"No student found with the given ID.\")\n",
        "\n",
        "# Function to update student's score and attendance\n",
        "def update_student_data():\n",
        "    try:\n",
        "        update_id = input(\"Enter the Student ID to update: \").strip()\n",
        "        student_index = df[df[\"Student ID\"] == update_id].index\n",
        "        if not student_index.empty:\n",
        "            score = int(input(\"Enter new score: \").strip())\n",
        "            attendance = int(input(\"Enter new attendance percentage: \").strip())\n",
        "            df.loc[student_index, \"Score\"] = score\n",
        "            df.loc[student_index, \"Attendance Percentage\"] = attendance\n",
        "            print(f\"\\nUpdated Data:\\n{df.loc[student_index]}\")\n",
        "        else:\n",
        "            print(\"No student found with the given ID.\")\n",
        "    except ValueError:\n",
        "        print(\"Invalid input. Please enter numeric values for score and attendance.\")\n",
        "    except Exception as e:\n",
        "        print(f\"Unexpected error: {e}\")\n",
        "\n",
        "# Interactive Menu\n",
        "while True:\n",
        "    print(\"\\nMenu\")\n",
        "    print(\"1. Add new student data\")\n",
        "    print(\"2. Search student data\")\n",
        "    print(\"3. Update student's score and attendance\")\n",
        "    print(\"4. Exit\")\n",
        "\n",
        "    choice = input(\"Choose an option (1-4): \").strip()\n",
        "    if choice == \"1\":\n",
        "        input_student_data()\n",
        "    elif choice == \"2\":\n",
        "        search_student_data()\n",
        "    elif choice == \"3\":\n",
        "        update_student_data()\n",
        "    elif choice == \"4\":\n",
        "        print(\"Exiting the program. Goodbye!\")\n",
        "        break\n",
        "    else:\n",
        "        print(\"Invalid choice. Please enter a number between 1 and 4.\")\n"
      ],
      "metadata": {
        "colab": {
          "base_uri": "https://localhost:8080/"
        },
        "id": "uus-1GDbqa9S",
        "outputId": "145db982-a21e-48b2-c39a-d899624942d8"
      },
      "execution_count": 127,
      "outputs": [
        {
          "output_type": "stream",
          "name": "stdout",
          "text": [
            "\n",
            "Menu\n",
            "1. Add new student data\n",
            "2. Search student data\n",
            "3. Update student's score and attendance\n",
            "4. Exit\n",
            "Choose an option (1-4): 4\n",
            "Exiting the program. Goodbye!\n"
          ]
        }
      ]
    }
  ]
}